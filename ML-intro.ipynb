{
 "cells": [
  {
   "cell_type": "markdown",
   "metadata": {},
   "source": [
    "# Анализ данных"
   ]
  },
  {
   "cell_type": "markdown",
   "metadata": {},
   "source": [
    "![ML](https://qph.fs.quoracdn.net/main-qimg-c583ea48aacbc6e139a26fbff75b4293)"
   ]
  },
  {
   "cell_type": "markdown",
   "metadata": {},
   "source": [
    "### Machine learning\n",
    "\n",
    "* Sample, example, object (Пример, Объект): строка набора данных. Пример обычно содержит один или несколько\n",
    "* Feature (Признак, Характеристика): входная переменная, используемая для создания прогнозов.\n",
    "* Predictions (Прогнозы): выходные данные модели при наличии входного примера.\n",
    "объектов.\n",
    "* Label (Метки): результат функции.\n",
    "\n",
    "$ x $ — объект<br/>\n",
    "$ 𝐗 $ — пространство объектов<br/>\n",
    "$ y = y(x) $ — ответ<br/>\n",
    "$ 𝐘 $ — пространство ответов<br/>\n",
    "$ x = (x^1, x^2, ..., x^d) $ — признаковое описание<br/>"
   ]
  },
  {
   "cell_type": "markdown",
   "metadata": {},
   "source": [
    "## Обучение с учителем и обучение без учителя\n",
    "\n",
    "Supervised learning / Unsipervised learning\n",
    "\n",
    "![supunsuplearning](https://proglib.io/wp-content/uploads/2018/05/mod1_SuperUnsuper.png)\n",
    "\n",
    "Обучение с учителем — извлечение закономерностей из примеров (\"извлечение знаний из данных\")\n",
    "\n",
    "$ a(x) = y $, где $ a(x) $ — алгоритм\n",
    "\n",
    "Пример: линейный алгоритм:\n",
    "\n",
    "$ a(x) = w_0 + w_1x^1 + ... + w_dx^d  $\n",
    "\n",
    "Функционал ошибки:\n",
    "\n",
    "$ Q(a, X) $ — ошибка алгоритма $ a $ на выборке $ X $\n",
    "Пример: доля неправильных ответов\n",
    "\n",
    "Обучение:\n",
    "\n",
    "$ Q(a, X) → \\underset{a ∈ A}{min} $, где $ A $ — семейство алгоритмов"
   ]
  },
  {
   "cell_type": "markdown",
   "metadata": {},
   "source": [
    "### Задачи, стоячие перед data scientistом:\n",
    "* Каким выбрать функционал ошибки\n",
    "* Какое выбрать семейство алгоритмов\n",
    "* Как обучить алгоритм?\n",
    "* Как сформировать признаки?\n",
    "* Как подготовить данные?"
   ]
  },
  {
   "cell_type": "markdown",
   "metadata": {},
   "source": [
    "## Задачи классификации\n",
    "\n",
    "![classification-3classes](https://astrobites.org/wp-content/uploads/2015/04/image22.jpg)\n",
    "\n",
    "Примеры:\n",
    "* Сорта цветов\n",
    "* Породы кошек / собак\n",
    "* Вид объекта на фото (Google Cloud Vision API)\n",
    "* Распознавание цифр на конвертах\n",
    "* Тематика статьи (из заданного множества)\n",
    "* Из какого сорта винограда сделано вино (по химическому составу)\n"
   ]
  },
  {
   "cell_type": "markdown",
   "metadata": {},
   "source": [
    "### Задачи бинарной классификации\n",
    "\n",
    "![classification-3classes](https://www.altexsoft.com/media/2017/04/Untitled.png)\n",
    "\n",
    "Примеры:\n",
    "* Понравиться ли пользователю предложенный товар (фильм, музыкальное произведение)?\n",
    "* Вернёт ли пользователь кредит?\n",
    "* Болен ли пациент данной болезнью?\n",
    "* Террорист ли данный прохожий (или пассажир)\n",
    "* Будет ли защищена диссертация?\n",
    "* Вероятность того, что проект получит финансирование\n",
    "* Подходит ли человек для работы в компании?"
   ]
  },
  {
   "cell_type": "markdown",
   "metadata": {},
   "source": [
    "## Задачи регрессии\n",
    "\n",
    "<img src=\"https://cdn-images-1.medium.com/max/2000/1*dz_CfA_KpqnK2OweRrLLxA.jpeg\" height=\"300\">\n",
    "\n",
    "Примеры:\n",
    "* Предсказание веса человека по различным измерениеям тела\n",
    "* Прогнозирование стоимости дома по его характеристикам\n",
    "* Прогнозирование температуры воды / воздуха\n",
    "* Прогнозирование объёма продаж нового товара\n",
    "* Сколько заработает магазин за год?\n",
    "* Сколько денег принесёт клиент за весь период своего обслуживания (LTV)?\n",
    "* Прогнозирование урожая\n",
    "* Прогнозирование смертности населения / преступности (в данном регионе)\n",
    "* Прогнозирование уровня преступности в штате (области)\n",
    "* Сколько лет человеку на фото?"
   ]
  },
  {
   "cell_type": "markdown",
   "metadata": {},
   "source": [
    "## Обучение без учителя\n",
    "\n",
    "### Задачи кластеризации\n",
    "\n",
    "<img src=\"https://slideplayer.com/slide/6935522/24/images/26/Clustering+Lucca%2C+Oct+2012+PART+I+%E2%80%A2+PART+II.jpg\" height=\"300\">"
   ]
  },
  {
   "cell_type": "markdown",
   "metadata": {},
   "source": [
    "## Другие задачи\n",
    "\n",
    "* (поисковое) ранжирование\n",
    "* рекомендательные системы"
   ]
  },
  {
   "cell_type": "code",
   "execution_count": 12,
   "metadata": {
    "collapsed": false,
    "inputHidden": false,
    "outputHidden": false
   },
   "outputs": [],
   "source": []
  },
  {
   "cell_type": "code",
   "execution_count": null,
   "metadata": {
    "collapsed": false,
    "inputHidden": false,
    "outputHidden": false
   },
   "outputs": [],
   "source": []
  }
 ],
 "metadata": {
  "kernel_info": {
   "name": "python3"
  },
  "kernelspec": {
   "display_name": "Python 3",
   "language": "python",
   "name": "python3"
  },
  "language_info": {
   "codemirror_mode": {
    "name": "ipython",
    "version": 3
   },
   "file_extension": ".py",
   "mimetype": "text/x-python",
   "name": "python",
   "nbconvert_exporter": "python",
   "pygments_lexer": "ipython3",
   "version": "3.5.1"
  },
  "nteract": {
   "version": "0.11.6"
  }
 },
 "nbformat": 4,
 "nbformat_minor": 4
}
